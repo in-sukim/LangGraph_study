{
 "cells": [
  {
   "cell_type": "code",
   "execution_count": 1,
   "metadata": {},
   "outputs": [
    {
     "data": {
      "text/plain": [
       "True"
      ]
     },
     "execution_count": 1,
     "metadata": {},
     "output_type": "execute_result"
    }
   ],
   "source": [
    "from dotenv import load_dotenv\n",
    "\n",
    "load_dotenv()"
   ]
  },
  {
   "cell_type": "code",
   "execution_count": 2,
   "metadata": {},
   "outputs": [],
   "source": [
    "from langchain_community.tools.tavily_search import TavilySearchResults\n",
    "from langgraph.prebuilt import ToolNode\n",
    "\n",
    "tools = [TavilySearchResults(max_results=1)]\n",
    "\n",
    "tool_executor = ToolNode(tools=tools)"
   ]
  },
  {
   "cell_type": "markdown",
   "metadata": {},
   "source": [
    "## 모델 준비\n",
    "\n",
    "1. 메시지와 함께 작동해야 합니다. 모든 에이전트의 상태를 메시지 형태로 표현할 것이므로, 메시지를 잘 처리할 수 있어야 합니다.\n",
    "2. OpenAI 함수 호출과 함께 작동해야 합니다. 이는 OpenAI 모델이거나 유사한 인터페이스를 제공하는 모델이어야 함을 의미합니다.\n",
    "\n",
    "해당 모델 필요사항은 LangGraph를 사용하기 위한 필요사항은 아님."
   ]
  },
  {
   "cell_type": "code",
   "execution_count": 29,
   "metadata": {},
   "outputs": [],
   "source": [
    "from langchain_openai import ChatOpenAI\n",
    "\n",
    "model = ChatOpenAI(temperature=0, streaming=True)"
   ]
  },
  {
   "cell_type": "code",
   "execution_count": 24,
   "metadata": {},
   "outputs": [],
   "source": [
    "from langchain_core.utils.function_calling import convert_to_openai_function\n",
    "\n",
    "functions = [convert_to_openai_function(tool) for tool in tools]\n",
    "model = model.bind_functions(functions)"
   ]
  },
  {
   "cell_type": "markdown",
   "metadata": {},
   "source": [
    "## Agent State 정의\n",
    "langgraph의 주요 그래프 타입은 StatefulGraph.<Br>\n",
    "이 그래프는 각 노드로 전달되는 상태 객체에 의해 매개변수화. 각 노드는 해당 상태를 업데이트하기 위한 작업을 반환합니다.<br> \n",
    "이러한 작업은 상태에 대해 특정 속성을 SET(기존 값을 덮어쓰기)하거나 기존 속성에 ADD(추가)할 수 있습니다. <br>\n",
    "SET 또는 ADD 여부는 그래프에서 구성할 수 있는 상태 객체를 주석 처리하여 표시됩니다.\n"
   ]
  },
  {
   "cell_type": "code",
   "execution_count": 25,
   "metadata": {},
   "outputs": [],
   "source": [
    "from typing import TypedDict, Annotated, Sequence\n",
    "import operator\n",
    "from langchain_core.messages import BaseMessage\n",
    "\n",
    "class AgentState(TypedDict):\n",
    "    messages: Annotated[Sequence[BaseMessage], operator.add]"
   ]
  },
  {
   "cell_type": "markdown",
   "metadata": {},
   "source": [
    "## 노드 정의"
   ]
  },
  {
   "cell_type": "code",
   "execution_count": 26,
   "metadata": {},
   "outputs": [],
   "source": [
    "from langgraph.prebuilt import ToolInvocation\n",
    "import json\n",
    "from langchain_core.messages import FunctionMessage\n",
    "\n",
    "# 계속할지 그만할지 결정하는 함수\n",
    "def should_continue(state):\n",
    "    messages = state['messages']\n",
    "    last_message = messages[-1]\n",
    "\n",
    "    if 'function_call' not in last_message.additional_kwargs:\n",
    "        return 'end'\n",
    "    else:\n",
    "        return 'continue'\n",
    "\n",
    "# 모델 호출 함수\n",
    "def call_model(state):\n",
    "    messages = state['messages']\n",
    "    response = model.invoke(messages)\n",
    "    return {'messages': [response]}\n",
    "\n",
    "# execute tools 함수\n",
    "def call_tool(state):\n",
    "    messages = state['messages']\n",
    "    last_message = messages[-1]\n",
    "    action = ToolInvocation(\n",
    "        tool = last_message.additional_kwargs['function_call']['name'],\n",
    "        tool_input = json.loads(last_message.additional_kwargs['function_call']['arguments']),\n",
    "    )\n",
    "    \n",
    "    response = tool_executor.invoke(action)\n",
    "    function_message = FunctionMessage(content = str(response), name = action.tool)\n",
    "    return {'messages': [function_message]}\n"
   ]
  },
  {
   "cell_type": "markdown",
   "metadata": {},
   "source": [
    "## Graph 정의"
   ]
  },
  {
   "cell_type": "code",
   "execution_count": 27,
   "metadata": {},
   "outputs": [],
   "source": [
    "from langgraph.graph import END, StateGraph\n",
    "\n",
    "# 새로운 그래프 정의\n",
    "workflow = StateGraph(AgentState)\n",
    "\n",
    "# 노드 추가\n",
    "workflow.add_node(\"agent\", call_model)\n",
    "workflow.add_node(\"action\", call_tool)\n",
    "\n",
    "\n",
    "# 그래프 시작노드 설정\n",
    "workflow.set_entry_point(\"agent\")\n",
    "\n",
    "# 조건부 엣지 설정\n",
    "workflow.add_conditional_edges(\n",
    "    'agent',\n",
    "    should_continue,\n",
    "    {\n",
    "        'continue': 'action',\n",
    "        'end': END,\n",
    "    },\n",
    ")\n",
    "\n",
    "# normal 엣지 추가\n",
    "workflow.add_edge('action', 'agent')\n",
    "\n",
    "# 그래프 컴파일\n",
    "app = workflow.compile()\n"
   ]
  },
  {
   "cell_type": "code",
   "execution_count": 30,
   "metadata": {},
   "outputs": [
    {
     "data": {
      "text/plain": [
       "{'messages': [SystemMessage(content='You are a helpful assistant.', additional_kwargs={}, response_metadata={}),\n",
       "  HumanMessage(content='What is the weather in sf?', additional_kwargs={}, response_metadata={}),\n",
       "  AIMessage(content='I\\'m sorry, but I am unable to provide real-time weather updates. You can check the weather in San Francisco by using a weather website or app, or by searching \"weather in San Francisco\" on a search engine.', additional_kwargs={}, response_metadata={'finish_reason': 'stop', 'model_name': 'gpt-3.5-turbo-0125'}, id='run-c1a6cecb-8b5a-4c05-8fa9-e7193138aa4d-0')]}"
      ]
     },
     "execution_count": 30,
     "metadata": {},
     "output_type": "execute_result"
    }
   ],
   "source": [
    "from langchain_core.messages import HumanMessage, SystemMessage\n",
    "system_message = SystemMessage(content=\"You are a helpful assistant.\")\n",
    "inputs = {\"messages\": [system_message, \n",
    "                       HumanMessage(content=\"What is the weather in sf?\")]}\n",
    "app.invoke(inputs)"
   ]
  }
 ],
 "metadata": {
  "kernelspec": {
   "display_name": "langgraph",
   "language": "python",
   "name": "python3"
  },
  "language_info": {
   "codemirror_mode": {
    "name": "ipython",
    "version": 3
   },
   "file_extension": ".py",
   "mimetype": "text/x-python",
   "name": "python",
   "nbconvert_exporter": "python",
   "pygments_lexer": "ipython3",
   "version": "3.10.0"
  }
 },
 "nbformat": 4,
 "nbformat_minor": 2
}
